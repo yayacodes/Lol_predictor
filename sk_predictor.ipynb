{
 "cells": [
  {
   "cell_type": "code",
   "execution_count": 21,
   "metadata": {},
   "outputs": [
    {
     "name": "stdout",
     "output_type": "stream",
     "text": [
      "Feature: Baron, Coefficient: 8.323790289689325e-07\n",
      "Feature: Dragon, Coefficient: 7.468355314316011e-07\n",
      "Feature: Towers, Coefficient: 5.141233362698835e-07\n",
      "Feature: Voidgrubs, Coefficient: -4.558441191752151e-07\n",
      "Feature: Assists, Coefficient: 4.431033553002969e-07\n",
      "Feature: CS, Coefficient: -4.125725501229551e-07\n",
      "Feature: Inhibitor, Coefficient: 3.862574768903969e-07\n",
      "Feature: Rift Herald, Coefficient: 3.773972084699992e-07\n",
      "Feature: Gold, Coefficient: 3.219785623375327e-07\n",
      "Feature: Kills/Deaths, Coefficient: 2.675296228071293e-07\n",
      "Feature: Wards Placed, Coefficient: 1.3084728140494768e-07\n",
      "Feature: Damage Dealt to Champs, Coefficient: -4.1522707950099403e-08\n",
      "Feature: Damage Taken, Coefficient: -3.56089758965792e-08\n",
      "Accuracy: 1.0\n"
     ]
    }
   ],
   "source": [
    "import pandas as pd\n",
    "import numpy as np\n",
    "from sklearn.model_selection import train_test_split\n",
    "from sklearn.linear_model import LogisticRegression\n",
    "from sklearn.metrics import accuracy_score\n",
    "from sklearn.preprocessing import StandardScaler\n",
    "\n",
    "# Load preprocessed data\n",
    "data = pd.read_csv('match_history_lol.csv')\n",
    "\n",
    "# Split features and target variable\n",
    "X = data.drop('Win', axis=1)\n",
    "y = data['Win']\n",
    "\n",
    "# Split data into training and testing sets\n",
    "X_train, X_test, y_train, y_test = train_test_split(X, y, test_size=0.2, random_state=42)\n",
    "\n",
    "\n",
    "# Initialize and train logistic regression model\n",
    "model = LogisticRegression()\n",
    "model.fit(X_train, y_train)\n",
    "\n",
    "# Predict win chance on testing data\n",
    "y_pred = model.predict(X_test)\n",
    "\n",
    "# Evaluate model performance\n",
    "accuracy = accuracy_score(y_test, y_pred)\n",
    "coefficients = model.coef_[0]\n",
    "\n",
    "std_dev = X_train.std(axis=0)\n",
    "normalized_coefficients = coefficients / std_dev\n",
    "\n",
    "# Rank features based on absolute coefficients\n",
    "feature_names = X.columns\n",
    "sorted_indices = np.argsort(np.abs(normalized_coefficients))[::-1]\n",
    "sorted_features = [feature_names[i] for i in sorted_indices]\n",
    "\n",
    "# Print ranked features and corresponding coefficients\n",
    "for feature, coefficient in zip(sorted_features, normalized_coefficients[sorted_indices]):\n",
    "    print(f'Feature: {feature}, Coefficient: {coefficient}')\n",
    "\n",
    "print(f'Accuracy: {accuracy}')\n"
   ]
  },
  {
   "cell_type": "code",
   "execution_count": null,
   "metadata": {},
   "outputs": [],
   "source": []
  }
 ],
 "metadata": {
  "kernelspec": {
   "display_name": "base",
   "language": "python",
   "name": "python3"
  },
  "language_info": {
   "codemirror_mode": {
    "name": "ipython",
    "version": 3
   },
   "file_extension": ".py",
   "mimetype": "text/x-python",
   "name": "python",
   "nbconvert_exporter": "python",
   "pygments_lexer": "ipython3",
   "version": "3.11.5"
  }
 },
 "nbformat": 4,
 "nbformat_minor": 2
}
