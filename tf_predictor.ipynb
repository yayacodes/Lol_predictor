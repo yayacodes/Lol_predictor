{
 "cells": [
  {
   "cell_type": "markdown",
   "metadata": {},
   "source": [
    "#### League of Legends Predictor\n",
    "\n",
    "Takes in a number of features based on match history data and predicts whether or not the next game will be a win"
   ]
  },
  {
   "cell_type": "markdown",
   "metadata": {},
   "source": []
  },
  {
   "cell_type": "code",
   "execution_count": null,
   "metadata": {},
   "outputs": [],
   "source": [
    "import pandas as pd\n",
    "import numpy as np\n",
    "import tensorflow as tf\n",
    "from sklearn.model_selection import train_test_split\n",
    "from sklearn.preprocessing import StandardScaler"
   ]
  },
  {
   "cell_type": "code",
   "execution_count": null,
   "metadata": {},
   "outputs": [],
   "source": [
    "# Load preprocessed data\n",
    "data = pd.read_csv('match_history_lol.csv')\n",
    "\n",
    "#Split the features and target variable\n",
    "X = data.drop('Win', axis=1)\n",
    "y = data['Win']\n",
    "\n",
    "#Split up the data into train and test data\n",
    "X_train, X_test, y_train, y_test = train_test_split(X, y, test_size=0.2, random_state=42)\n",
    "\n",
    "# Normalize/scale the data \n",
    "scaler = StandardScaler()\n",
    "X_train_scaled = scaler.fit_transform(X_train)\n",
    "X_test_scaled = scaler.transform(X_test)\n",
    "\n",
    "#Build the neural network model\n",
    "# Build the neural network model\n",
    "model = tf.keras.Sequential([\n",
    "    tf.keras.layers.Dense(13, activation='relu', input_shape=(X_train.shape[1],)),\n",
    "    tf.keras.layers.Dense(6, activation='relu'),\n",
    "    tf.keras.layers.Dense(1, activation='sigmoid')\n",
    "])\n",
    "\n",
    "# Compile the model\n",
    "model.compile(optimizer='adam', loss='binary_crossentropy', metrics=['accuracy'])\n",
    "\n",
    "# Train the model\n",
    "history = model.fit(X_train_scaled, y_train, epochs=50, batch_size=32, validation_split=0.2)\n",
    "\n",
    "# Evaluate the model\n",
    "test_loss, test_accuracy = model.evaluate(X_test_scaled, y_test)\n",
    "print(f'Test Accuracy: {test_accuracy}')\n",
    "\n",
    "# Predict win chance on testing data\n",
    "y_pred = model.predict(X_test_scaled)\n",
    "\n",
    "print(f'WEIGHTS: {model.get_weights()[0]}')\n",
    "\n",
    "# Get the weights of the first layer\n",
    "first_layer_weights = model.layers[0].get_weights()[0]\n",
    "\n",
    "# Get the biases of the first layer\n",
    "first_layer_biases = model.layers[0].get_weights()[1]\n",
    "\n",
    "# Assuming your input features are named and stored in a variable called 'feature_names'\n",
    "feature_names = X.columns\n",
    "\n",
    "# Display the weights and corresponding feature names\n",
    "for i in range(len(feature_names)):\n",
    "    print(f'Feature: {feature_names[i]}, Weight: {first_layer_weights[i]}')\n",
    "\n",
    "# You can also display the biases\n",
    "print(f'Biases: {first_layer_biases}')"
   ]
  }
 ],
 "metadata": {
  "kernelspec": {
   "display_name": "Python 3",
   "language": "python",
   "name": "python3"
  },
  "language_info": {
   "codemirror_mode": {
    "name": "ipython",
    "version": 3
   },
   "file_extension": ".py",
   "mimetype": "text/x-python",
   "name": "python",
   "nbconvert_exporter": "python",
   "pygments_lexer": "ipython3",
   "version": "3.1.0"
  }
 },
 "nbformat": 4,
 "nbformat_minor": 2
}
